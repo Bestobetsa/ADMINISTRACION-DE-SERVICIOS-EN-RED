{
  "nbformat": 4,
  "nbformat_minor": 0,
  "metadata": {
    "colab": {
      "name": "baseAuto.ipynb",
      "provenance": [],
      "collapsed_sections": [],
      "authorship_tag": "ABX9TyM2J5o92Q+pxYShTQNPx5RQ",
      "include_colab_link": true
    },
    "kernelspec": {
      "name": "python3",
      "display_name": "Python 3"
    },
    "language_info": {
      "name": "python"
    }
  },
  "cells": [
    {
      "cell_type": "markdown",
      "metadata": {
        "id": "view-in-github",
        "colab_type": "text"
      },
      "source": [
        "<a href=\"https://colab.research.google.com/github/Bestobetsa/ADMINISTRACION-DE-SERVICIOS-EN-RED/blob/main/baseAuto.ipynb\" target=\"_parent\"><img src=\"https://colab.research.google.com/assets/colab-badge.svg\" alt=\"Open In Colab\"/></a>"
      ]
    },
    {
      "cell_type": "code",
      "execution_count": null,
      "metadata": {
        "colab": {
          "base_uri": "https://localhost:8080/"
        },
        "id": "Ou4a6ij2iK9d",
        "outputId": "cb07ba2a-9e63-4783-e645-9088aa7f900f"
      },
      "outputs": [
        {
          "output_type": "stream",
          "name": "stdout",
          "text": [
            "Collecting automata-lib\n",
            "  Downloading automata_lib-5.0.0-py3-none-any.whl (32 kB)\n",
            "Requirement already satisfied: pydot in /usr/local/lib/python3.7/dist-packages (from automata-lib) (1.3.0)\n",
            "Requirement already satisfied: pyparsing>=2.1.4 in /usr/local/lib/python3.7/dist-packages (from pydot->automata-lib) (3.0.7)\n",
            "Installing collected packages: automata-lib\n",
            "Successfully installed automata-lib-5.0.0\n"
          ]
        }
      ],
      "source": [
        "pip install automata-lib\n"
      ]
    },
    {
      "cell_type": "code",
      "source": [
        "#Automata ADN Generico\n"
      ],
      "metadata": {
        "colab": {
          "base_uri": "https://localhost:8080/"
        },
        "id": "arEHAYP5iVvw",
        "outputId": "47e6e3e3-d3e6-4732-8948-aab52c87d778"
      },
      "execution_count": null,
      "outputs": [
        {
          "output_type": "execute_result",
          "data": {
            "text/plain": [
              "{'q1', 'q2'}"
            ]
          },
          "metadata": {},
          "execution_count": 6
        }
      ]
    },
    {
      "cell_type": "code",
      "source": [
        "class Tape(object):\n",
        "    \n",
        "    blank_symbol = \" \"\n",
        "    \n",
        "    def __init__(self,\n",
        "                 tape_string = \"\"):\n",
        "        self.__tape = dict((enumerate(tape_string)))\n",
        "        # last line is equivalent to the following three lines:\n",
        "        #self.__tape = {}\n",
        "        #for i in range(len(tape_string)):\n",
        "        #    self.__tape[i] = input[i]\n",
        "        \n",
        "    def __str__(self):\n",
        "        s = \"\"\n",
        "        min_used_index = min(self.__tape.keys()) \n",
        "        max_used_index = max(self.__tape.keys())\n",
        "        for i in range(min_used_index, max_used_index):\n",
        "            s += self.__tape[i]\n",
        "        return s    \n",
        "   \n",
        "    def __getitem__(self,index):\n",
        "        if index in self.__tape:\n",
        "            return self.__tape[index]\n",
        "        else:\n",
        "            return Tape.blank_symbol\n",
        "\n",
        "    def __setitem__(self, pos, char):\n",
        "        self.__tape[pos] = char \n",
        "\n",
        "        \n",
        "class TuringMachine(object):\n",
        "    \n",
        "    def __init__(self, \n",
        "                 tape = \"\", \n",
        "                 blank_symbol = \" \",\n",
        "                 initial_state = \"\",\n",
        "                 final_states = None,\n",
        "                 transition_function = None):\n",
        "        self.__tape = Tape(tape)\n",
        "        self.__head_position = 0\n",
        "        self.__blank_symbol = blank_symbol\n",
        "        self.__current_state = initial_state\n",
        "        if transition_function == None:\n",
        "            self.__transition_function = {}\n",
        "        else:\n",
        "            self.__transition_function = transition_function\n",
        "        if final_states == None:\n",
        "            self.__final_states = set()\n",
        "        else:\n",
        "            self.__final_states = set(final_states)\n",
        "        \n",
        "    def get_tape(self): \n",
        "        return str(self.__tape)\n",
        "    \n",
        "    def step(self):\n",
        "        char_under_head = self.__tape[self.__head_position]\n",
        "        x = (self.__current_state, char_under_head)\n",
        "        if x in self.__transition_function:\n",
        "            y = self.__transition_function[x]\n",
        "            self.__tape[self.__head_position] = y[1]\n",
        "            if y[2] == \"R\":\n",
        "                self.__head_position += 1\n",
        "            elif y[2] == \"L\":\n",
        "                self.__head_position -= 1\n",
        "            self.__current_state = y[0]\n",
        "\n",
        "    def final(self):\n",
        "        if self.__current_state in self.__final_states:\n",
        "            return True\n",
        "        else:\n",
        "            return False\n",
        "\n",
        "initial_state = \"init\",\n",
        "accepting_states = [\"final\"],\n",
        "transition_function = {(\"init\",\"A\"):(\"init\", \"A\", \"R\"),\n",
        "                       (\"init\",\"T\"):(\"init\", \"U\", \"R\"),\n",
        "                       (\"init\",\"G\"):(\"init\", \"G\", \"R\"),\n",
        "                       (\"init\",\"C\"):(\"init\", \"C\", \"R\"),\n",
        "                       (\"init\",\"/\"):(\"init\", \"/\", \"R\"),\n",
        "                       (\"init\",\"0\"):(\"init\", \"a\", \"R\"),\n",
        "                       (\"init\",\"1\"):(\"init\", \"b\", \"R\"),\n",
        "                       (\"init\",\"2\"):(\"init\", \"c\", \"R\"),\n",
        "                       (\"init\",\"3\"):(\"init\", \"d\", \"R\"),\n",
        "                       (\"init\",\"4\"):(\"init\", \"e\", \"R\"),\n",
        "                       (\"init\",\"5\"):(\"init\", \"f\", \"R\"),\n",
        "                       (\"init\",\"\\n\"):(\"init\",\"/\", \"R\"),\n",
        "                       (\"init\",\"S\"):(\"init\", \"S\", \"R\"),\n",
        "                       (\"init\",\"P\"):(\"init\",\"ARN\", \"R\"),\n",
        "                       (\"init\",\" \"):(\"final\",\"\", \"N\"),\n",
        "                       }\n",
        "final_states = {\"final\"}\n",
        "\n",
        "t = TuringMachine(\"\"\"CTC/AAA/AGT/CTA/GAG/CCA/CCG/TCC/AGG/GAG/CAG/GTA/GCT/GCT/GGG/CTC/CGG/GGA/CAC/TTT/GCG/TTC/GGG/\n",
        "CTC/AAA/AGT/CTA/GAG/CCA/CCG/TCC/AGG/GAG/CAG/GTA/GCT/GCT/GGG/CTC/CGG/GGA/CAC/TTT/GCG/TTC/GGG/\n",
        "CTC/AAA/AGT/CTA/GAG/CCA/CCG/TCC/AGG/GAG/CAG/GTA/GCT/GCT/GGG/CTC/CGG/GGA/CAC/TTT/GCG/TTC/GGG/\n",
        "CTC/AAA/AGT/CTA/GAG/CCA/CCG/TCC/AGG/GAG/CAG/GTA/GCT/GCT/GGG/CTC/CGG/GGA/CAC/TTT/GCG/TTC/GGG/\n",
        "CTC/AAA/AGT/CTA/GAG/CCA/CCG/TCC/AGG/GAG/CAG/GTA/GCT/GCT/GGG/CTC/CGG/GGA/CAC/TTT/GCG/TTC/GGG/\n",
        "CTC/AAA/AGT/CTA/GAG/CCA/CCG/TCC/AGG/GAG/CAG/GTA/GCT/GCT/GGG/CTC/CGG/GGA/CAC/TTT/GCG/TTC/GGG/0SP/\"\"\", \n",
        "                  initial_state = \"init\",\n",
        "                  final_states = final_states,\n",
        "                  transition_function=transition_function)\n",
        "\n",
        "print(\"Input on Tape:\\n\" + t.get_tape())\n",
        "\n",
        "while not t.final():\n",
        "    t.step()\n",
        "\n",
        "print(\"Result of the Turing machine calculation:\")    \n",
        "print(t.get_tape())"
      ],
      "metadata": {
        "colab": {
          "base_uri": "https://localhost:8080/"
        },
        "id": "5w_quSea3YKP",
        "outputId": "18bd1502-2089-4512-eea7-51e5d907448d"
      },
      "execution_count": 8,
      "outputs": [
        {
          "output_type": "stream",
          "name": "stdout",
          "text": [
            "Input on Tape:\n",
            "CTC/AAA/AGT/CTA/GAG/CCA/CCG/TCC/AGG/GAG/CAG/GTA/GCT/GCT/GGG/CTC/CGG/GGA/CAC/TTT/GCG/TTC/GGG/\n",
            "CTC/AAA/AGT/CTA/GAG/CCA/CCG/TCC/AGG/GAG/CAG/GTA/GCT/GCT/GGG/CTC/CGG/GGA/CAC/TTT/GCG/TTC/GGG/\n",
            "CTC/AAA/AGT/CTA/GAG/CCA/CCG/TCC/AGG/GAG/CAG/GTA/GCT/GCT/GGG/CTC/CGG/GGA/CAC/TTT/GCG/TTC/GGG/\n",
            "CTC/AAA/AGT/CTA/GAG/CCA/CCG/TCC/AGG/GAG/CAG/GTA/GCT/GCT/GGG/CTC/CGG/GGA/CAC/TTT/GCG/TTC/GGG/\n",
            "CTC/AAA/AGT/CTA/GAG/CCA/CCG/TCC/AGG/GAG/CAG/GTA/GCT/GCT/GGG/CTC/CGG/GGA/CAC/TTT/GCG/TTC/GGG/\n",
            "CTC/AAA/AGT/CTA/GAG/CCA/CCG/TCC/AGG/GAG/CAG/GTA/GCT/GCT/GGG/CTC/CGG/GGA/CAC/TTT/GCG/TTC/GGG/0SP\n",
            "Result of the Turing machine calculation:\n",
            "CUC/AAA/AGU/CUA/GAG/CCA/CCG/UCC/AGG/GAG/CAG/GUA/GCU/GCU/GGG/CUC/CGG/GGA/CAC/UUU/GCG/UUC/GGG//CUC/AAA/AGU/CUA/GAG/CCA/CCG/UCC/AGG/GAG/CAG/GUA/GCU/GCU/GGG/CUC/CGG/GGA/CAC/UUU/GCG/UUC/GGG//CUC/AAA/AGU/CUA/GAG/CCA/CCG/UCC/AGG/GAG/CAG/GUA/GCU/GCU/GGG/CUC/CGG/GGA/CAC/UUU/GCG/UUC/GGG//CUC/AAA/AGU/CUA/GAG/CCA/CCG/UCC/AGG/GAG/CAG/GUA/GCU/GCU/GGG/CUC/CGG/GGA/CAC/UUU/GCG/UUC/GGG//CUC/AAA/AGU/CUA/GAG/CCA/CCG/UCC/AGG/GAG/CAG/GUA/GCU/GCU/GGG/CUC/CGG/GGA/CAC/UUU/GCG/UUC/GGG//CUC/AAA/AGU/CUA/GAG/CCA/CCG/UCC/AGG/GAG/CAG/GUA/GCU/GCU/GGG/CUC/CGG/GGA/CAC/UUU/GCG/UUC/GGG/aSARN/\n"
          ]
        }
      ]
    }
  ]
}